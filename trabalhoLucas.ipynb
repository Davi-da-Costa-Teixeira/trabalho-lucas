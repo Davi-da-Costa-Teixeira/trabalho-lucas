{
 "cells": [
  {
   "cell_type": "code",
   "execution_count": null,
   "id": "1fbb1b21-2c44-405e-8db7-ae4bcbbbb8bb",
   "metadata": {
    "tags": []
   },
   "outputs": [],
   "source": [
    "# realizando a instalacao da biblioteca para pyspellchecker correção ortográfica\n",
    "pip install pyspellchecker"
   ]
  },
  {
   "cell_type": "code",
   "execution_count": null,
   "id": "ca2132e1-6b4e-4c20-a007-4fd8d20c62bf",
   "metadata": {
    "tags": []
   },
   "outputs": [],
   "source": [
    "#realizando a instalacao da biblioteca textblob que é uma biblioteca de processamento de linguagem natural\n",
    "pip install textblob\n"
   ]
  },
  {
   "cell_type": "code",
   "execution_count": 4,
   "id": "b494bf80-7dba-44fc-ae81-e657e52fcdc4",
   "metadata": {
    "tags": []
   },
   "outputs": [
    {
     "name": "stdin",
     "output_type": "stream",
     "text": [
      "digite um texto casca de bala morangu\n"
     ]
    },
    {
     "name": "stdout",
     "output_type": "stream",
     "text": [
      "Texto original: casca de bala morangu\n",
      "Texto corrigido: casca de bala morango\n"
     ]
    }
   ],
   "source": [
    "#ALUNO: DAVI DA COSTA TEIXEIRA\n",
    "\n",
    "from spellchecker import SpellChecker\n",
    " #funcao para corrigir os errs de digitacao da String informada\n",
    "def corrigir_erro_spellchecker(texto):\n",
    "    \n",
    "    #logo abaixo estou configurando o corretor ortografico para portugues\n",
    "    spell = SpellChecker(language='pt')\n",
    "    \n",
    "    # aqui vamos dividir a string recebida no parametro texto para palavras, dentro de uma lista\n",
    "    palavras = texto.split()\n",
    "    \n",
    "    #aqui ele corrige palavra por palavra\n",
    "    palavras_corrigidas = [spell.correction(palavra) for palavra in palavras]\n",
    "    \n",
    "   #depois corrige as palavras e retorna a string\n",
    "    return \" \".join(palavras_corrigidas)\n",
    "\n",
    "\n",
    "# guardo a entrada do usuario na variavel aqui\n",
    "text_inserido = str(input(\"digite um texto\"))\n",
    "texto_corrigido = corrigir_erro_spellchecker(text_inserido)\n",
    "\n",
    "#exibindo os resultados apor o input na variavel com string formatada\n",
    "print(f'Texto original: {text_inserido}')\n",
    "print(f'Texto corrigido: {texto_corrigido}')\n",
    "\n",
    "\n"
   ]
  }
 ],
 "metadata": {
  "kernelspec": {
   "display_name": "Python 3 (ipykernel)",
   "language": "python",
   "name": "python3"
  },
  "language_info": {
   "codemirror_mode": {
    "name": "ipython",
    "version": 3
   },
   "file_extension": ".py",
   "mimetype": "text/x-python",
   "name": "python",
   "nbconvert_exporter": "python",
   "pygments_lexer": "ipython3",
   "version": "3.11.0"
  }
 },
 "nbformat": 4,
 "nbformat_minor": 5
}
